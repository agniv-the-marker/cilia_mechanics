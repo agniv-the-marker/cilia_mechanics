{
  "nbformat": 4,
  "nbformat_minor": 0,
  "metadata": {
    "colab": {
      "provenance": [],
      "authorship_tag": "ABX9TyNMvZB5KoBe39uvWQnv1qEQ",
      "include_colab_link": true
    },
    "kernelspec": {
      "name": "python3",
      "display_name": "Python 3"
    },
    "language_info": {
      "name": "python"
    }
  },
  "cells": [
    {
      "cell_type": "markdown",
      "metadata": {
        "id": "view-in-github",
        "colab_type": "text"
      },
      "source": [
        "<a href=\"https://colab.research.google.com/github/agniv-the-marker/cilia_mechanics/blob/main/ciliary_model.ipynb\" target=\"_parent\"><img src=\"https://colab.research.google.com/assets/colab-badge.svg\" alt=\"Open In Colab\"/></a>"
      ]
    },
    {
      "cell_type": "markdown",
      "source": [
        "## Jülicher's Model"
      ],
      "metadata": {
        "id": "abWxMW5Q3NoH"
      }
    },
    {
      "cell_type": "markdown",
      "source": [
        "This is an exposition of Jülicher's simplified models of cilia from the papers \"How molecular motors shape the flagellar beat (2007),\" \"The chirality of ciliary beats (2008),\" \"Nonlinear dynamics of cilia and flagella (2009).\" "
      ],
      "metadata": {
        "id": "luj_1wCo3SDu"
      }
    },
    {
      "cell_type": "markdown",
      "source": [
        "Cilia in the wild generally has a 9+2 structure/symmetry. This is best shown at https://www.youtube.com/watch?v=9nZYlyFGm50 , which has a close up as well.\n",
        "\n",
        "The 9 comes from the 9 microtubules that are clearly seen in a cross section. The 2 comes from 2 microtubules in the center (which break radial symmetry and give support to the outer microtubules). The outer microtubules are connected by means of dyenin motors. The motors \"walk\" alongside the microtubules, inducing shear and creating the bends that we can see. Furthermore, when the motors bend too far, they stop \"walking.\" Motors on opposite sides of the cross section are in opposite phase, allowing for the cilia overall to bend.\n",
        "\n",
        "So, we want a model that captures these supports/motors well. The model that we will cover simplifies cilia with maintaining the idea of opposite shear. Instead of 9+2 symmetry, the model is more like 2+0 symmetry.\n",
        "\n",
        "This also makes it much easier to code!"
      ],
      "metadata": {
        "id": "fDvUOzCM6vYO"
      }
    },
    {
      "cell_type": "code",
      "execution_count": null,
      "metadata": {
        "id": "Morf3W3ZhQYM"
      },
      "outputs": [],
      "source": [
        "from scipy.integrate import quad\n",
        "from math import cos, sin\n",
        "\n",
        "L = length \n",
        "a = diameter of model / seperation of 2 filaments\n",
        "\n",
        "def psi(s):\n",
        "  \"\"\" tangent angle of curve at s \"\"\"\n",
        "  return angle thingie\n",
        "\n",
        "def r(s):\n",
        "  if s == 0:\n",
        "    return x(0), y(0)\n",
        "  return r(0) + quad(lambda x : np.asarray((cos(psi(s)), sin(psi(s))), 0, s)\n",
        "\n",
        "def Delta(s):\n",
        "  if s == 0:\n",
        "    return Delta_0\n",
        "  return Delta(0)  + a * (psi(s) - psi(0))"
      ]
    },
    {
      "cell_type": "code",
      "source": [
        "xi_perp = perpendular hydrodynamic drag force\n",
        "kappa = bending rigitiy\n",
        "\n",
        "def f(s, t):\n",
        "  return internal shear force density due to struct. within anexome\n",
        "\n",
        "We have the equation\n",
        "\n",
        "import pde\n",
        "\n",
        "xi_perp * \n",
        "\n",
        "\n",
        "grid = pde.UnitGrid([64, 64])                 # generate grid\n",
        "state = pde.ScalarField.random_uniform(grid)  # generate initial condition\n",
        "\n",
        "eq = pde.DiffusionPDE(diffusivity=0.1)        # define the pde\n",
        "result = eq.solve(state, t_range=10)          # solve the pde\n",
        "result.plot()                                 # plot the resulting field"
      ],
      "metadata": {
        "id": "QuQ1jZTKjmAa"
      },
      "execution_count": null,
      "outputs": []
    }
  ]
}