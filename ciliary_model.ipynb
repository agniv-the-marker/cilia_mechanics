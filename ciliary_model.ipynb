{
  "nbformat": 4,
  "nbformat_minor": 0,
  "metadata": {
    "colab": {
      "provenance": [],
      "authorship_tag": "ABX9TyNbhYwWlgHiy7RAC5DeTNXd",
      "include_colab_link": true
    },
    "kernelspec": {
      "name": "python3",
      "display_name": "Python 3"
    },
    "language_info": {
      "name": "python"
    }
  },
  "cells": [
    {
      "cell_type": "markdown",
      "metadata": {
        "id": "view-in-github",
        "colab_type": "text"
      },
      "source": [
        "<a href=\"https://colab.research.google.com/github/agniv-the-marker/cilia_mechanics/blob/main/ciliary_model.ipynb\" target=\"_parent\"><img src=\"https://colab.research.google.com/assets/colab-badge.svg\" alt=\"Open In Colab\"/></a>"
      ]
    },
    {
      "cell_type": "markdown",
      "source": [
        "## Jülicher's Model"
      ],
      "metadata": {
        "id": "abWxMW5Q3NoH"
      }
    },
    {
      "cell_type": "markdown",
      "source": [
        "This is an exposition of Jülicher's simplified models of cilia from the papers \"How molecular motors shape the flagellar beat (2007),\" \"The chirality of ciliary beats (2008),\" \"Nonlinear dynamics of cilia and flagella (2009).\" "
      ],
      "metadata": {
        "id": "luj_1wCo3SDu"
      }
    },
    {
      "cell_type": "markdown",
      "source": [
        "Cilia in the wild generally has a 9+2 structure/symmetry. This is best shown at https://www.youtube.com/watch?v=9nZYlyFGm50 , which has a close up as well.\n",
        "\n",
        "The 9 comes from the 9 microtubules that are clearly seen in a cross section. The 2 comes from 2 microtubules in the center (which break radial symmetry and give support to the outer microtubules). The outer microtubules are connected by means of dyenin motors. The motors \"walk\" alongside the microtubules, inducing shear and creating the bends that we can see. Furthermore, when the motors bend too far, they stop \"walking.\" Motors on opposite sides of the cross section are in opposite phase, allowing for the cilia overall to bend.\n",
        "\n",
        "So, we want a model that captures these supports/motors well. The model that we will cover simplifies cilia with maintaining the idea of opposite shear. Instead of 9+2 symmetry, the model is more like 2+0 symmetry.\n",
        "\n",
        "This also makes it much easier to code!"
      ],
      "metadata": {
        "id": "fDvUOzCM6vYO"
      }
    },
    {
      "cell_type": "code",
      "execution_count": null,
      "metadata": {
        "id": "Morf3W3ZhQYM"
      },
      "outputs": [],
      "source": []
    }
  ]
}