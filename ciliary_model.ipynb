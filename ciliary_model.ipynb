{
  "nbformat": 4,
  "nbformat_minor": 0,
  "metadata": {
    "colab": {
      "provenance": [],
      "authorship_tag": "ABX9TyNwdJxjVUoYfvMejBJJf/5d",
      "include_colab_link": true
    },
    "kernelspec": {
      "name": "python3",
      "display_name": "Python 3"
    },
    "language_info": {
      "name": "python"
    }
  },
  "cells": [
    {
      "cell_type": "markdown",
      "metadata": {
        "id": "view-in-github",
        "colab_type": "text"
      },
      "source": [
        "<a href=\"https://colab.research.google.com/github/agniv-the-marker/cilia_mechanics/blob/main/ciliary_model.ipynb\" target=\"_parent\"><img src=\"https://colab.research.google.com/assets/colab-badge.svg\" alt=\"Open In Colab\"/></a>"
      ]
    },
    {
      "cell_type": "markdown",
      "source": [
        "## Jülicher's Model"
      ],
      "metadata": {
        "id": "abWxMW5Q3NoH"
      }
    },
    {
      "cell_type": "markdown",
      "source": [
        "This is an exposition of Jülicher's simplified models of cilia from the papers \"How molecular motors shape the flagellar beat (2007),\" \"The chirality of ciliary beats (2008),\" \"Nonlinear dynamics of cilia and flagella (2009).\" "
      ],
      "metadata": {
        "id": "luj_1wCo3SDu"
      }
    },
    {
      "cell_type": "markdown",
      "source": [
        "Cilia in the wild generally has a 9+2 structure/symmetry. This is best shown at https://www.youtube.com/watch?v=9nZYlyFGm50 , which has a close up as well.\n",
        "\n",
        "The 9 comes from the 9 microtubules that are clearly seen in a cross section. The 2 comes from 2 microtubules in the center (which break radial symmetry and give support to the outer microtubules). The outer microtubules are connected by means of dyenin motors. The motors \"walk\" alongside the microtubules, inducing shear and creating the bends that we can see. Furthermore, when the motors bend too far, they stop \"walking.\" Motors on opposite sides of the cross section are in opposite phase, allowing for the cilia overall to bend.\n",
        "\n",
        "So, we want a model that captures these supports/motors well. The model that we will cover simplifies cilia with maintaining the idea of opposite shear. Instead of 9+2 symmetry, the model is more like 2+0 symmetry.\n",
        "\n",
        "This also makes it much easier to code!"
      ],
      "metadata": {
        "id": "fDvUOzCM6vYO"
      }
    },
    {
      "cell_type": "code",
      "execution_count": null,
      "metadata": {
        "id": "Morf3W3ZhQYM"
      },
      "outputs": [],
      "source": [
        "from scipy.integrate import quad\n",
        "from math import cos, sin\n",
        "\n",
        "L = length \n",
        "a = diameter of model / seperation of 2 filaments\n",
        "\n",
        "def psi(s, t):\n",
        "  \"\"\" tangent angle of curve at s \"\"\"\n",
        "  return angle thingie\n",
        "\n",
        "def r(s, t):\n",
        "  # position vector at s at time t\n",
        "  if s == 0:\n",
        "    return x(0, t), y(0, t)\n",
        "  return r(0, t) + quad(lambda x : np.asarray((cos(psi(s, t)), sin(psi(s, t))), 0, s)\n",
        "\n",
        "def Delta(s, t):\n",
        "  if s == 0:\n",
        "    return Delta_0\n",
        "  return Delta(0, t)  + a * (psi(s, t) - psi(0, t))"
      ]
    },
    {
      "cell_type": "code",
      "source": [
        "xi_perp = perpendular hydrodynamic drag force\n",
        "kappa = bending rigitiy\n",
        "\n",
        "def f(s, t):\n",
        "  return internal shear force density due to struct. within anexome\n",
        "\n",
        "we have\n",
        "\n",
        "xi_prep * derivitive w respect to t phi(s, t) = kappa * 4th derivative with respect to s phi(s, t) + a * 2nd derivative with respect to s f(s, t)\n"
      ],
      "metadata": {
        "id": "QuQ1jZTKjmAa"
      },
      "execution_count": null,
      "outputs": []
    },
    {
      "cell_type": "markdown",
      "source": [
        "xi_prep \\* derivitive w respect to t phi(s, t) = kappa * 4th derivative with respect to s phi(s, t) + a * 2nd derivative with respect to s f(s, t)\n",
        "\n",
        "$$\\xi_{\\perp} \\partial_t \\psi(s, t) = \\kappa\\partial_s^4\\psi(s, t) + a\\partial_s^2f(s, t),$$\n",
        "\n",
        "this is an ODE but we have to solve for the 2nd and 4th derivative of psi, but we need to solve for psi first."
      ],
      "metadata": {
        "id": "BTSfer-dt-P1"
      }
    },
    {
      "cell_type": "markdown",
      "source": [
        "$$\n",
        "\\psi(s, t) = \\Sigma_{n=-\\infty}^{\\infty} \\tilde{\\psi}^{(n)}(s)e^{in\\omega t}\n",
        "\\\\\n",
        "\\omega = \\text{angular frequency}\n",
        "\\\\\n",
        "\\tilde{\\psi}^{(n)}(s) = \\text{complex conjugate func. amplitude/phase of $n$th harmonic of oscillation}\n",
        "\\\\\n",
        "\\tilde{\\Delta}^{(n)}(s) = \\text{Fourier mode of sliding displacement (defined similarly)}\n",
        "\\\\\n",
        "\\tilde{f}^{(n)}(s) = \\text{Fourier mode of force density (defined similarly)}\n",
        "$$"
      ],
      "metadata": {
        "id": "66WEInIvvY19"
      }
    },
    {
      "cell_type": "code",
      "source": [
        "omega = angular freq.\n",
        "\n",
        "def psi(s, t):\n",
        "  summand = 0\n",
        "  #for n in range(- infinty, infinity):\n",
        "  for n in range(1, 2): # we only care about the fundamental mode\n",
        "    summand += tilde_psi(n, s) * e **(i * n * omega * t)\n",
        "  return summand\n",
        "\n",
        "def tilde_psi(n, s):\n",
        "  return complex conjugate func amplitude/phase of nth harmonic of oscillation\n"
      ],
      "metadata": {
        "id": "3ch6KWciuPsF"
      },
      "execution_count": null,
      "outputs": []
    },
    {
      "cell_type": "markdown",
      "source": [
        "$$\n",
        "\\alpha(\\omega) = \\text{complex compliance (sliding displacement bc of small oscillatory force)}\\\\\n",
        "\\tilde{\\Delta}(s) \\approx \\alpha(\\omega)\\tilde{f}(s)\\\\\n",
        "\\chi(\\omega) = \\alpha^{-1}(\\omega) = \\text{inverse response coeff. is the force response to periodic sliding}\\\\\n",
        "\\tilde{f}(s) \\approx \\chi\\tilde{\\Delta}(s)\\text{(set $\\chi$ to constant, called sliding controlled motor coordination)}\\\\\n",
        "\\chi = K + i\\omega\\lambda = \\text{$\\chi$ is complex}\\\\\n",
        "K(\\omega) = \\text{stiffness per unit length (can be negative)}\\\\\n",
        "\\lambda(\\omega) = \\text{friction coeff. per unit length (can be negative)}\n",
        "$$"
      ],
      "metadata": {
        "id": "u9yLh8UwwiuF"
      }
    },
    {
      "cell_type": "code",
      "source": [
        "alpha = complex compliance\n",
        "chi = inverse response coeff.\n",
        "K = stiffness per unit length\n",
        "lam = friction coeff. per unit length\n",
        "chi = complex(K, omega * lam) # constant"
      ],
      "metadata": {
        "id": "bWfSTT0owiMW"
      },
      "execution_count": null,
      "outputs": []
    },
    {
      "cell_type": "markdown",
      "source": [
        "$$\n",
        "i\\overline{\\omega}\\tilde{\\psi} + \\tilde{\\psi}^{''''} - \\overline{\\chi}\\tilde{\\psi}^{''} = 0\\\\\n",
        "~\\\\\n",
        "\\overline{\\omega}=\\frac{\\omega\\xi_{\\perp}L^4}{\\kappa} \\text{ (dimentionless param.)}\\\\\n",
        "~\n",
        "\\\\\n",
        "\\overline{\\chi}=\\frac{\\chi a^2L^2}{\\kappa}\\text{ (dimentionless param.)}\n",
        "$$"
      ],
      "metadata": {
        "id": "iQVy2alQxXLY"
      }
    },
    {
      "cell_type": "code",
      "source": [
        "normed_omega = (omega * xi_perp * L**4) / kappa\n",
        "normed_chi   = (chi * a**2 * L**2) / kappa\n",
        "\n",
        "i * normed_omega * psi(s) + 4th derivative with respect to s psi(s) = normed_chi * 2nd derivative with respect to s psi(s)"
      ],
      "metadata": {
        "id": "-9nkoOm0xd4d"
      },
      "execution_count": null,
      "outputs": []
    },
    {
      "cell_type": "markdown",
      "source": [
        "$$\n",
        "\\gamma_s \\frac{d}{dt} \\Delta_0(t) = -k_s\\Delta_0(t)-\\int_0^Lf(s,t)ds\\\\\n",
        "\\text{Integral term = total force along the cilia}\\\\\n",
        "\\gamma_s = \\text{ basal friction coeff. (friction at the base)}\\\\\n",
        "k_s = \\text{ basal stiffness.}\n",
        "$$"
      ],
      "metadata": {
        "id": "BseK6HOKyDNV"
      }
    },
    {
      "cell_type": "code",
      "source": [],
      "metadata": {
        "id": "E6kzynW7yRlV"
      },
      "execution_count": null,
      "outputs": []
    }
  ]
}