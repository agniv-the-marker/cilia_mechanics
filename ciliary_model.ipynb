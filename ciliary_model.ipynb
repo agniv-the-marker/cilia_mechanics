{
  "nbformat": 4,
  "nbformat_minor": 0,
  "metadata": {
    "colab": {
      "provenance": [],
      "authorship_tag": "ABX9TyPs+vbMVlNENJ9AWkJlfOHZ",
      "include_colab_link": true
    },
    "kernelspec": {
      "name": "python3",
      "display_name": "Python 3"
    },
    "language_info": {
      "name": "python"
    }
  },
  "cells": [
    {
      "cell_type": "markdown",
      "metadata": {
        "id": "view-in-github",
        "colab_type": "text"
      },
      "source": [
        "<a href=\"https://colab.research.google.com/github/agniv-the-marker/cilia_mechanics/blob/main/ciliary_model.ipynb\" target=\"_parent\"><img src=\"https://colab.research.google.com/assets/colab-badge.svg\" alt=\"Open In Colab\"/></a>"
      ]
    },
    {
      "cell_type": "markdown",
      "source": [
        "## Jülicher's Model"
      ],
      "metadata": {
        "id": "abWxMW5Q3NoH"
      }
    },
    {
      "cell_type": "markdown",
      "source": [
        "This is an exposition of Jülicher's simplified models of cilia from the papers \"How molecular motors shape the flagellar beat (2007),\" \"The chirality of ciliary beats (2008),\" \"Nonlinear dynamics of cilia and flagella (2009).\" "
      ],
      "metadata": {
        "id": "luj_1wCo3SDu"
      }
    },
    {
      "cell_type": "code",
      "execution_count": null,
      "metadata": {
        "id": "Morf3W3ZhQYM"
      },
      "outputs": [],
      "source": []
    }
  ]
}